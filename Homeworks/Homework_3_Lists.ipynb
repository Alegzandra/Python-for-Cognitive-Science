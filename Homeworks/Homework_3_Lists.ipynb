{
  "nbformat": 4,
  "nbformat_minor": 0,
  "metadata": {
    "anaconda-cloud": {},
    "kernelspec": {
      "display_name": "Python 3",
      "language": "python",
      "name": "python3"
    },
    "language_info": {
      "codemirror_mode": {
        "name": "ipython",
        "version": 3
      },
      "file_extension": ".py",
      "mimetype": "text/x-python",
      "name": "python",
      "nbconvert_exporter": "python",
      "pygments_lexer": "ipython3",
      "version": "3.7.1"
    },
    "colab": {
      "name": "Lists_1.ipynb",
      "provenance": []
    }
  },
  "cells": [
    {
      "cell_type": "markdown",
      "metadata": {
        "id": "re-KmGyOdjeM"
      },
      "source": [
        "# Lists\n",
        "\n",
        "**Questions**:\n",
        "- \"How do I organize several data types in an ordered manner?\"\n",
        "- \"How can I modify this collection of data?\"\n",
        "\n",
        "**Learning Objectives**:\n",
        "- \"Understand how to create and modify a list\"\n",
        "- \"Understand what a list can and can't do\"\n",
        "- \"Become familiar with common list methods\"\n",
        "* * * * *\n",
        "\n",
        "A list is an ordered, indexable collection of data. Lets say you're doing a study on the following countries:\n",
        "\n",
        "    country:\n",
        "    \n",
        "    \"Afghanistan\"\n",
        "    \"Canada\"\n",
        "    \"Thailand\"\n",
        "    \"Denmark\"\n",
        "    \"Japan\"\n",
        "\n",
        "You could put that data into a list \n",
        "\n",
        "* contain data in square brackets `[...]`, \n",
        "* each value is separated by a comma `,`."
      ]
    },
    {
      "cell_type": "code",
      "metadata": {
        "id": "tvRHDluWdjeT"
      },
      "source": [
        "country_list = [\"Afghanistan\", \"Canada\", \"Thailand\", \"Denmark\", \"Japan\"]\n",
        "type(country_list)"
      ],
      "execution_count": null,
      "outputs": []
    },
    {
      "cell_type": "markdown",
      "metadata": {
        "id": "J7jfoNODdjeV"
      },
      "source": [
        "* Use `len` to find out how many values are in a list."
      ]
    },
    {
      "cell_type": "code",
      "metadata": {
        "id": "JosZd3SydjeW"
      },
      "source": [
        "len(country_list)"
      ],
      "execution_count": null,
      "outputs": []
    },
    {
      "cell_type": "markdown",
      "metadata": {
        "id": "JuwX_ht2djeX"
      },
      "source": [
        "## Use an item’s [index](https://github.com/dlab-berkeley/python-intensive/blob/master/Glossary.md#index) to fetch it from a list.\n",
        "\n",
        "* Each value in a list is stored in a particular location.\n",
        "* Locations are numbered from 0 rather than 1.\n",
        "* Use the location’s index in square brackets to access the value it contains."
      ]
    },
    {
      "cell_type": "code",
      "metadata": {
        "id": "PkSIR0OAdjeY"
      },
      "source": [
        "print('the first item is:', country_list[0])\n",
        "print('the fourth item is:', country_list[3])"
      ],
      "execution_count": null,
      "outputs": []
    },
    {
      "cell_type": "markdown",
      "metadata": {
        "id": "1Cs1IXiFdjeZ"
      },
      "source": [
        "* Lists can be indexed from the back using a negative index. "
      ]
    },
    {
      "cell_type": "code",
      "metadata": {
        "id": "xvrdi3kpdjeZ"
      },
      "source": [
        "print(country_list[-1])\n",
        "print(country_list[-2])"
      ],
      "execution_count": null,
      "outputs": []
    },
    {
      "cell_type": "markdown",
      "metadata": {
        "id": "H6I3HkhukrGj"
      },
      "source": [
        "* To find the index of an element in a list, use the .index() method:"
      ]
    },
    {
      "cell_type": "code",
      "metadata": {
        "id": "AHFO09aIlCjp"
      },
      "source": [
        "print(country_list.index(\"Canada\"))"
      ],
      "execution_count": null,
      "outputs": []
    },
    {
      "cell_type": "markdown",
      "metadata": {
        "id": "cHFJHuKymJY4"
      },
      "source": [
        "## Indexing beyond the end of the collection is an error.\n",
        "\n",
        "*   Python reports an `IndexError` if we attempt to access a value that doesn't exist.\n",
        "    *   This is a kind of [runtime error](https://github.com/dlab-berkeley/python-intensive/blob/master/Day_3/15_Errors.ipynb).\n",
        "    *   Cannot be detected as the code is parsed\n",
        "        because the index might be calculated based on data."
      ]
    },
    {
      "cell_type": "code",
      "metadata": {
        "id": "pH7eGKc5mOE6"
      },
      "source": [
        "print(country_list[99])"
      ],
      "execution_count": null,
      "outputs": []
    },
    {
      "cell_type": "markdown",
      "metadata": {
        "id": "9HUY7CLidjea"
      },
      "source": [
        "## \"Slice\" a list using `[ : ]`\n",
        "\n",
        "* Just as with strings, we can get multiple items from a list using slicing\n",
        "* Note that the first index is included, while the second is excluded"
      ]
    },
    {
      "cell_type": "code",
      "metadata": {
        "id": "roz7Xvhxdjeb"
      },
      "source": [
        "print(country_list[1:4])"
      ],
      "execution_count": null,
      "outputs": []
    },
    {
      "cell_type": "markdown",
      "metadata": {
        "id": "qChBCqk-djec"
      },
      "source": [
        "* Leave an index blank to get everything from the beginning / end"
      ]
    },
    {
      "cell_type": "code",
      "metadata": {
        "id": "NkcyL5XWdjec"
      },
      "source": [
        "print(country_list[:4])"
      ],
      "execution_count": null,
      "outputs": []
    },
    {
      "cell_type": "code",
      "metadata": {
        "id": "SVtkZAuZdjed"
      },
      "source": [
        "print(country_list[2:])"
      ],
      "execution_count": null,
      "outputs": []
    },
    {
      "cell_type": "markdown",
      "metadata": {
        "id": "4J0VJT7gdjel"
      },
      "source": [
        "## Use len to fin the length of your list, min to find its minimum and max to find its maximum value.\n",
        "\n",
        "* `len(list_name)` returns the length of a list\n",
        "* `min(list_name)` returns the minimum in a list\n",
        "* `max(list_name)` returns the maximum in a list\n",
        "\n",
        "Observation: min and max can be used only when the elements in the list are of the same type.\n"
      ]
    },
    {
      "cell_type": "code",
      "metadata": {
        "id": "SRsYR1dNdjel"
      },
      "source": [
        "print(\"my list is: \", country_list)\n",
        "print(\"its length is: \", len(country_list))\n",
        "print(\"its minimum is: \", min(country_list))\n",
        "print(\"its maximum is: \", max(country_list))"
      ],
      "execution_count": null,
      "outputs": []
    },
    {
      "cell_type": "markdown",
      "metadata": {
        "id": "-tZAcXJ0djeu"
      },
      "source": [
        "## Challenge 1: Slice It\n",
        "\n",
        "If `thing` is a list and `low` and `high` are both non-negative integers like this:"
      ]
    },
    {
      "cell_type": "code",
      "metadata": {
        "collapsed": true,
        "id": "rfDrv3Yzdjeu"
      },
      "source": [
        "thing = [1,3,8,20,6, 'elephant', 'banana', 200, 2, 'list comprehension']\n",
        "low = 2\n",
        "high = 8"
      ],
      "execution_count": null,
      "outputs": []
    },
    {
      "cell_type": "markdown",
      "metadata": {
        "id": "AjK6btijdjev"
      },
      "source": [
        "1. What does `thing[low:high]` do?\n",
        "2. What does `thing[low:]` (without a value after the colon) do?\n",
        "3. What does `thing[:high]` (without a value before the colon) do?\n",
        "4. What does `thing[:]` (just a colon) do?\n",
        "5. How long is the list `thing[low:high]`, expressed in terms of `low` and `high`?"
      ]
    },
    {
      "cell_type": "markdown",
      "metadata": {
        "id": "x_ByFFgVdjev"
      },
      "source": [
        "## Challenge 2: Making Strides\n",
        "\n",
        "What does the following program print?"
      ]
    },
    {
      "cell_type": "code",
      "metadata": {
        "id": "2aBBzwfSdjev"
      },
      "source": [
        "city = 'Berkeley'\n",
        "print(city[::2])\n",
        "print(city[::-1])"
      ],
      "execution_count": null,
      "outputs": []
    },
    {
      "cell_type": "markdown",
      "metadata": {
        "id": "QnRTcZEBdjev"
      },
      "source": [
        "1. If we write a [slice](https://github.com/dlab-berkeley/python-intensive/blob/master/Glossary.md#slice) as low:high:stride, what does stride do?\n",
        "2. What expression would select all of the even-numbered items from a collection of consecutive integers?"
      ]
    },
    {
      "cell_type": "code",
      "metadata": {
        "collapsed": true,
        "id": "2QiN8b35djev"
      },
      "source": [
        ""
      ],
      "execution_count": null,
      "outputs": []
    },
    {
      "cell_type": "markdown",
      "metadata": {
        "id": "JbP4VqeKlWNy"
      },
      "source": [
        "## Challenge 3: Index\n",
        "\n",
        "I've created a (long) list for you below. Use the `.index()` method to find out what the index number is for `Waldo`"
      ]
    },
    {
      "cell_type": "code",
      "metadata": {
        "id": "0L6DdKQvlXFo"
      },
      "source": [
        "Wheres_Waldo = [\"Anna\", \"Shad\", \"Rachel\", \"Maura\", \"Jason\", \"Matt\", \"Konrad\", \"Justine\", \"Sarah\", \"Laura\", \\\n",
        "                \"Chelsea\", \"Nina\", \"Dierdre\", \"Julian\", \"Waldo\", \"Naniette\", \"Melissa\", \"Biz\", \"Elsa\", \"Demetria\",\\\n",
        "                \"Liz\", \"Olivia\", \"Will\", \"Ogi\", \"Melanie\", \"Jessica\"]"
      ],
      "execution_count": null,
      "outputs": []
    },
    {
      "cell_type": "markdown",
      "metadata": {
        "id": "RjMIMYLIdje1"
      },
      "source": [
        "# Keypoints\n",
        "\n",
        "1. A list stores many values in a single structure.\n",
        "2. Use an item’s index to fetch it from a list.\n",
        "3. Lists may contain values of different types.\n",
        "4. Indexing beyond the end of the collection is an error."
      ]
    },
    {
      "cell_type": "markdown",
      "metadata": {
        "id": "ma3mFJNOmqJz"
      },
      "source": [
        "Source: https://github.com/dlab-berkeley/Python-Fundamentals"
      ]
    }
  ]
}