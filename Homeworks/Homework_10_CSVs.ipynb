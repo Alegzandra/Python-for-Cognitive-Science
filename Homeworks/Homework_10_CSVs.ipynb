{
  "cells": [
    {
      "cell_type": "markdown",
      "metadata": {
        "id": "fwtarxDRu9b8"
      },
      "source": [
        "# CSV Files \n",
        "\n",
        "\n",
        "**Questions**:\n",
        "- \"How do I open a csv file and read its contents?\"\n",
        "- \"How do I write a csv file with the variables I generated?\"\n",
        "\n",
        "**Learning Objectives**:\n",
        "- \"Understand how to read/write csv files.\"\n",
        "* * * * *\n"
      ]
    },
    {
      "cell_type": "markdown",
      "metadata": {
        "id": "-L5STFgou9cv"
      },
      "source": [
        "# Reading/Writing csv files using `pandas`\n",
        "\n",
        "Reading in a dataset that is stored as a \"comma separated file\" (csv) is easy in Python using the `pandas` package. Central to the `pandas` package is the `DataFrame` type, which stores 2-dimensional tabular data in a format similar to Excel spreedsheets.\n",
        "\n",
        "Let's import `pandas` and use it's `read_csv()` function to load the data stored in a csv file into a `DataFrame`"
      ]
    },
    {
      "cell_type": "code",
      "execution_count": null,
      "metadata": {
        "id": "RJeZECaGu9cw"
      },
      "outputs": [],
      "source": [
        "# You might need to install the pandas library first. \n",
        "# Unhashtag the line below and run this cell to install it:\n",
        "# !pip install pandas"
      ]
    },
    {
      "cell_type": "code",
      "execution_count": null,
      "metadata": {
        "id": "ev2422XVu9cx"
      },
      "outputs": [],
      "source": [
        "import pandas as pd\n",
        "caps = pd.read_csv('capitals.csv')"
      ]
    },
    {
      "cell_type": "markdown",
      "metadata": {
        "id": "CBHPk6Mgu9cz"
      },
      "source": [
        "We can look at the first 5 (or any number) rows of data using the `.head()` method of the `DataFrame` object."
      ]
    },
    {
      "cell_type": "code",
      "execution_count": null,
      "metadata": {
        "id": "sk1AzkFeu9c0"
      },
      "outputs": [],
      "source": [
        "caps.head()"
      ]
    },
    {
      "cell_type": "markdown",
      "metadata": {
        "id": "tW6sqbcUu9c1"
      },
      "source": [
        "To see how many data points and variables exist in the dataframe we can simply use the `.shape` attribute."
      ]
    },
    {
      "cell_type": "code",
      "execution_count": null,
      "metadata": {
        "id": "PTkKpJKHu9c3"
      },
      "outputs": [],
      "source": [
        "caps.shape"
      ]
    },
    {
      "cell_type": "markdown",
      "metadata": {
        "id": "_M8iNjDYu9c4"
      },
      "source": [
        "Or we can get more detailed information about the number of entries (e.g. observations, data points) and the variables for each entry using the `.info()` method."
      ]
    },
    {
      "cell_type": "code",
      "execution_count": null,
      "metadata": {
        "id": "RfsxWpi6u9c5"
      },
      "outputs": [],
      "source": [
        "caps.info()"
      ]
    },
    {
      "cell_type": "markdown",
      "metadata": {
        "id": "H8bdqTUCu9c5"
      },
      "source": [
        "It looks like there is a single missing value in the Capital variable (there are 199 non-null objects, not 200). Let's remove that missing value (or `na`) using the `dropna()` method so that we can save an updated version of the csv file."
      ]
    },
    {
      "cell_type": "code",
      "execution_count": null,
      "metadata": {
        "id": "qz_2lq78u9c6"
      },
      "outputs": [],
      "source": [
        "caps_nomissing = caps.dropna()\n",
        "caps_nomissing.info()"
      ]
    },
    {
      "cell_type": "markdown",
      "metadata": {
        "id": "VbdVwa-1u9c7"
      },
      "source": [
        "That looks better. Now let's write this updated `DataFrame` out to a csv file."
      ]
    },
    {
      "cell_type": "code",
      "execution_count": null,
      "metadata": {
        "id": "kjqJsV2uu9c8"
      },
      "outputs": [],
      "source": [
        "caps_nomissing.to_csv('capitals_nomissing.csv')"
      ]
    },
    {
      "cell_type": "markdown",
      "metadata": {
        "id": "j-rozoxdu9c9"
      },
      "source": [
        "For more information on using `pandas` come to the D-Lab's workshop titled \"Introduction to Pandas\". Here's a [link](https://github.com/dlab-berkeley/introduction-to-pandas) to the GitHub repo containing the course materials."
      ]
    },
    {
      "cell_type": "markdown",
      "metadata": {
        "id": "hZakw2tLu9c_"
      },
      "source": [
        "\n",
        "\n",
        "## Challenge 1: Writing a CSV file\n",
        "\n",
        "Below is a `pandas` `DataFrame` created from a dictionary of lists representing various information about US states. Write this [object](https://github.com/dlab-berkeley/python-intensive/blob/master/Glossary.md#object) as a CSV file called `states.csv`"
      ]
    },
    {
      "cell_type": "code",
      "execution_count": null,
      "metadata": {
        "id": "Ytan-p-gu9dA"
      },
      "outputs": [],
      "source": [
        "import pandas as pd\n",
        "import numpy as np\n",
        "states = pd.DataFrame( {'state': ['Ohio', 'Michigan', 'California', 'Florida', 'Alabama'],\n",
        "                        'population': [11.6, 9.9, 39.1, 20.2, 4.9], \n",
        "                        'year in union': [1803, 1837, 1850, 1834, 1819], \n",
        "                        'state bird': ['Northern cardinal', np.nan, np.nan, np.nan, np.nan], \n",
        "                        'capital': ['Columbus', 'Lansing', 'Sacramento', 'Tallahassee', 'Montgomery']})\n",
        "states"
      ]
    },
    {
      "cell_type": "markdown",
      "source": [
        "## Challenge 2.\n",
        "Replace nan values in 'state bird' object with the values: ['Southern cardinal', 'Eastern cardinal', 'Western cardinal', 'Center cardinal']. Rewrite `states.csv` with the new dataframe."
      ],
      "metadata": {
        "id": "qZKcYmIUw895"
      }
    },
    {
      "cell_type": "code",
      "source": [
        ""
      ],
      "metadata": {
        "id": "0pIxP9eg4kdT"
      },
      "execution_count": null,
      "outputs": []
    },
    {
      "cell_type": "markdown",
      "source": [
        "## Challenge 3.\n",
        "Delete column 'year in union' using 'drop' method and print the dataframe statistics using '.describe()' method."
      ],
      "metadata": {
        "id": "55TGhhfQyd98"
      }
    },
    {
      "cell_type": "markdown",
      "source": [
        "Source: https://github.com/dlab-berkeley/Python-Fundamentals"
      ],
      "metadata": {
        "id": "ElRpXb4Xd1ES"
      }
    }
  ],
  "metadata": {
    "kernelspec": {
      "display_name": "Python 3",
      "language": "python",
      "name": "python3"
    },
    "language_info": {
      "codemirror_mode": {
        "name": "ipython",
        "version": 3
      },
      "file_extension": ".py",
      "mimetype": "text/x-python",
      "name": "python",
      "nbconvert_exporter": "python",
      "pygments_lexer": "ipython3",
      "version": "3.8.3"
    },
    "toc": {
      "base_numbering": 1,
      "nav_menu": {},
      "number_sections": false,
      "sideBar": true,
      "skip_h1_title": false,
      "title_cell": "Table of Contents",
      "title_sidebar": "Contents",
      "toc_cell": false,
      "toc_position": {
        "height": "calc(100% - 180px)",
        "left": "10px",
        "top": "150px",
        "width": "271.6px"
      },
      "toc_section_display": true,
      "toc_window_display": false
    },
    "varInspector": {
      "cols": {
        "lenName": 16,
        "lenType": 16,
        "lenVar": 40
      },
      "kernels_config": {
        "python": {
          "delete_cmd_postfix": "",
          "delete_cmd_prefix": "del ",
          "library": "var_list.py",
          "varRefreshCmd": "print(var_dic_list())"
        },
        "r": {
          "delete_cmd_postfix": ") ",
          "delete_cmd_prefix": "rm(",
          "library": "var_list.r",
          "varRefreshCmd": "cat(var_dic_list()) "
        }
      },
      "types_to_exclude": [
        "module",
        "function",
        "builtin_function_or_method",
        "instance",
        "_Feature"
      ],
      "window_display": false
    },
    "colab": {
      "name": "Homework for lesson 10",
      "provenance": [],
      "collapsed_sections": []
    }
  },
  "nbformat": 4,
  "nbformat_minor": 0
}