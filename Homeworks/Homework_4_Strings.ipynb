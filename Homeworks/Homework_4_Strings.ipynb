{
  "nbformat": 4,
  "nbformat_minor": 0,
  "metadata": {
    "kernelspec": {
      "display_name": "Python 3",
      "language": "python",
      "name": "python3"
    },
    "language_info": {
      "codemirror_mode": {
        "name": "ipython",
        "version": 3
      },
      "file_extension": ".py",
      "mimetype": "text/x-python",
      "name": "python",
      "nbconvert_exporter": "python",
      "pygments_lexer": "ipython3",
      "version": "3.6.3"
    },
    "colab": {
      "name": "Homework for Lesson 4 - Strings.ipynb",
      "provenance": []
    }
  },
  "cells": [
    {
      "cell_type": "markdown",
      "metadata": {
        "id": "EUDdhgg1k5vD"
      },
      "source": [
        "# Strings\n",
        "\n",
        "\n",
        "**Questions**:\n",
        "- \"How do I manipulate strings (text)?\"\n",
        "\n",
        "**Learning Objectives**:\n",
        "- Become familiar with the [string](https://github.com/dlab-berkeley/python-intensive/blob/master/Glossary.md#string) [type](https://github.com/dlab-berkeley/python-intensive/blob/master/Glossary.md#type) and its methods\n",
        "* * * * *\n"
      ]
    },
    {
      "cell_type": "markdown",
      "metadata": {
        "id": "gwXOJShLk5vP"
      },
      "source": [
        "## We can do things with strings\n",
        "\n",
        "* We've already seen some operations that can be done with strings."
      ]
    },
    {
      "cell_type": "code",
      "metadata": {
        "id": "ASaYzbdpk5vT"
      },
      "source": [
        "first_name = \"Johan\"\n",
        "last_name = \"Gambolputty\"\n",
        "full_name = first_name + last_name\n",
        "print(full_name)"
      ],
      "execution_count": null,
      "outputs": []
    },
    {
      "cell_type": "markdown",
      "metadata": {
        "id": "oYqJkkmLk5vX"
      },
      "source": [
        "* Remember that computers don't understand context."
      ]
    },
    {
      "cell_type": "code",
      "metadata": {
        "id": "ytZcP30dk5vZ"
      },
      "source": [
        "full_name = first_name + \" \" + last_name\n",
        "print(full_name)"
      ],
      "execution_count": null,
      "outputs": []
    },
    {
      "cell_type": "markdown",
      "metadata": {
        "id": "wfHlkpKJk5vb"
      },
      "source": [
        "## Strings are made up of sub-strings\n",
        "\n",
        "* You can think of strings as a [sequence](https://github.com/dlab-berkeley/python-intensive/blob/master/Glossary.md#sequence) of smaller strings or characters. \n",
        "* We can access a piece of that sequence using `[]`."
      ]
    },
    {
      "cell_type": "code",
      "metadata": {
        "id": "-jK9XvX1k5vc"
      },
      "source": [
        "full_name[1]"
      ],
      "execution_count": null,
      "outputs": []
    },
    {
      "cell_type": "markdown",
      "metadata": {
        "id": "YU5IAJaUk5ve"
      },
      "source": [
        "**Gotcha** - Python (and many other langauges) start counting from 0."
      ]
    },
    {
      "cell_type": "code",
      "metadata": {
        "id": "BfPWPMXGk5vg"
      },
      "source": [
        "full_name[0]"
      ],
      "execution_count": null,
      "outputs": []
    },
    {
      "cell_type": "code",
      "metadata": {
        "id": "hU_20a0Dk5vk"
      },
      "source": [
        "full_name[4]"
      ],
      "execution_count": null,
      "outputs": []
    },
    {
      "cell_type": "markdown",
      "metadata": {
        "id": "2kLF30UZk5vm"
      },
      "source": [
        "## You can slice strings using  `[ : ]`\n",
        "\n",
        "* if you want a range (or \"slice\") of a sequence, you get everything *before* the second index:"
      ]
    },
    {
      "cell_type": "code",
      "metadata": {
        "id": "slS_BmNRk5vo"
      },
      "source": [
        "full_name[0:4]"
      ],
      "execution_count": null,
      "outputs": []
    },
    {
      "cell_type": "code",
      "metadata": {
        "id": "oKjIQC2Ik5vp"
      },
      "source": [
        "full_name[0:5]"
      ],
      "execution_count": null,
      "outputs": []
    },
    {
      "cell_type": "markdown",
      "metadata": {
        "id": "Lcgr-RF1k5vr"
      },
      "source": [
        "* You can see some of the logic for this when we consider implicit indices."
      ]
    },
    {
      "cell_type": "code",
      "metadata": {
        "id": "OiFOMh1tk5vr"
      },
      "source": [
        "full_name[:5]"
      ],
      "execution_count": null,
      "outputs": []
    },
    {
      "cell_type": "code",
      "metadata": {
        "id": "q-0gfZelk5vs"
      },
      "source": [
        "full_name[5:]"
      ],
      "execution_count": null,
      "outputs": []
    },
    {
      "cell_type": "markdown",
      "metadata": {
        "id": "3LpfqWymk5vu"
      },
      "source": [
        "## String Have Methods"
      ]
    },
    {
      "cell_type": "markdown",
      "metadata": {
        "id": "j2VhhpxZk5vv"
      },
      "source": [
        "* There are other operations defined on string data. These are called **string [methods](https://github.com/dlab-berkeley/python-intensive/blob/master/Glossary.md#method)**. \n",
        "* IPython lets you do tab-completion after a dot ('.') to see what methods an [object](https://github.com/dlab-berkeley/python-intensive/blob/master/Glossary.md#object) (i.e., a defined variable) has to offer. Try it now!"
      ]
    },
    {
      "cell_type": "code",
      "metadata": {
        "id": "bArV3UwQk5vw"
      },
      "source": [
        "str."
      ],
      "execution_count": null,
      "outputs": []
    },
    {
      "cell_type": "markdown",
      "metadata": {
        "id": "MUnaTcePk5vy"
      },
      "source": [
        "* Let's look at the upper method. What does it do? Lets take a look at the documentation. IPython lets us do this with a question mark ('?') before *or* after an object (again, a defined variable)."
      ]
    },
    {
      "cell_type": "code",
      "metadata": {
        "collapsed": true,
        "id": "UJG5f2ofk5vy"
      },
      "source": [
        "str.upper?"
      ],
      "execution_count": null,
      "outputs": []
    },
    {
      "cell_type": "markdown",
      "metadata": {
        "id": "xI_sEeFdk5v0"
      },
      "source": [
        "So we can use it to upper-caseify a string. "
      ]
    },
    {
      "cell_type": "code",
      "metadata": {
        "id": "xvLzZT-Vk5v1"
      },
      "source": [
        "full_name.upper()"
      ],
      "execution_count": null,
      "outputs": []
    },
    {
      "cell_type": "markdown",
      "metadata": {
        "id": "IhkSAl7Wk5v2"
      },
      "source": [
        "You have to use the parenthesis at the end because upper is a method of the string class.\n",
        "\n",
        "Don't forget, simply calling the method does not change the original variable, you must reassign the variable:"
      ]
    },
    {
      "cell_type": "code",
      "metadata": {
        "id": "Joag2127k5v2"
      },
      "source": [
        "print(full_name)"
      ],
      "execution_count": null,
      "outputs": []
    },
    {
      "cell_type": "code",
      "metadata": {
        "id": "Ge946XYsk5v3"
      },
      "source": [
        "full_name = full_name.upper()\n",
        "print(full_name)"
      ],
      "execution_count": null,
      "outputs": []
    },
    {
      "cell_type": "markdown",
      "metadata": {
        "id": "2GqeD8rgk5v4"
      },
      "source": [
        "For what its worth, you don't need to have a variable to use the upper() method, you could use it on the string itself."
      ]
    },
    {
      "cell_type": "code",
      "metadata": {
        "id": "hrMVDgkTk5v5"
      },
      "source": [
        "\"Johann Gambolputty\".upper()"
      ],
      "execution_count": null,
      "outputs": []
    },
    {
      "cell_type": "markdown",
      "metadata": {
        "id": "NLKOAI7Nk5v5"
      },
      "source": [
        "What do you think should happen when you take upper of an int?  What about a string representation of an int?"
      ]
    },
    {
      "cell_type": "markdown",
      "metadata": {
        "id": "kZyO6xMBk5v6"
      },
      "source": [
        "## Challenge 1: Write your name\n",
        "\n",
        "1. Make two string variables, one with your first name and one with your last name.\n",
        "2. Concatenate both strings to form your full name and [assign](https://github.com/dlab-berkeley/python-intensive/blob/master/Glossary.md#assign) it to a variable.\n",
        "3. Assign a new variable that has your full name in all upper case.\n",
        "4. Slice that string to get your first name again."
      ]
    },
    {
      "cell_type": "code",
      "metadata": {
        "collapsed": true,
        "id": "21z3tvSwk5v6"
      },
      "source": [
        ""
      ],
      "execution_count": null,
      "outputs": []
    },
    {
      "cell_type": "markdown",
      "metadata": {
        "id": "owTBOvN3k5v7"
      },
      "source": [
        "## Challenge 2: Try seeing what the following string methods do:\n",
        "\n",
        "    * `split`\n",
        "    * `join`\n",
        "    * `replace`\n",
        "    * `strip`\n",
        "    * `find`"
      ]
    },
    {
      "cell_type": "code",
      "metadata": {
        "collapsed": true,
        "id": "sOduCkR2k5v7"
      },
      "source": [
        ""
      ],
      "execution_count": null,
      "outputs": []
    },
    {
      "cell_type": "markdown",
      "metadata": {
        "id": "NyB9EYVck5v8"
      },
      "source": [
        "## Challenge 3: Working with strings"
      ]
    },
    {
      "cell_type": "markdown",
      "metadata": {
        "id": "CM7QXBifk5v9"
      },
      "source": [
        "Below is a string of Edgar Allen Poe's \"A Dream Within a Dream\":"
      ]
    },
    {
      "cell_type": "code",
      "metadata": {
        "collapsed": true,
        "id": "PyrU-mQHk5v-"
      },
      "source": [
        "poem = '''Take this kiss upon the brow!\n",
        "And, in parting from you now,\n",
        "Thus much let me avow —\n",
        "You are not wrong, who deem\n",
        "That my days have been a dream;\n",
        "Yet if hope has flown away\n",
        "In a night, or in a day,\n",
        "In a vision, or in none,\n",
        "Is it therefore the less gone?  \n",
        "All that we see or seem\n",
        "Is but a dream within a dream.\n",
        "\n",
        "I stand amid the roar\n",
        "Of a surf-tormented shore,\n",
        "And I hold within my hand\n",
        "Grains of the golden sand —\n",
        "How few! yet how they creep\n",
        "Through my fingers to the deep,\n",
        "While I weep — while I weep!\n",
        "O God! Can I not grasp \n",
        "Them with a tighter clasp?\n",
        "O God! can I not save\n",
        "One from the pitiless wave?\n",
        "Is all that we see or seem\n",
        "But a dream within a dream?'''"
      ],
      "execution_count": null,
      "outputs": []
    },
    {
      "cell_type": "markdown",
      "metadata": {
        "id": "F0kC389bk5v_"
      },
      "source": [
        "What is the difference between `poem.strip(\"?\")` and `poem.replace(\"?\", \"\")` ?"
      ]
    },
    {
      "cell_type": "code",
      "metadata": {
        "id": "CVZVxh_Dk5v_",
        "colab": {
          "base_uri": "https://localhost:8080/"
        },
        "outputId": "1fabaef1-669b-42d1-a880-9b6e7c809917"
      },
      "source": [
        ""
      ],
      "execution_count": null,
      "outputs": [
        {
          "output_type": "execute_result",
          "data": {
            "text/plain": [
              "314"
            ]
          },
          "metadata": {},
          "execution_count": 3
        }
      ]
    },
    {
      "cell_type": "markdown",
      "metadata": {
        "id": "HEJb29wak5wA"
      },
      "source": [
        "At what index does the word \"*and*\" first appear? Where does it last appear?"
      ]
    },
    {
      "cell_type": "code",
      "metadata": {
        "collapsed": true,
        "id": "qH1b6oJck5wB",
        "colab": {
          "base_uri": "https://localhost:8080/"
        },
        "outputId": "d5734762-9fdc-4714-ceb8-d1f1c3e62ea5"
      },
      "source": [
        "# the last occurence of a substring in a string\n",
        "last = poem.rfind('and')\n",
        "first = poem.index('and')\n",
        "print(first, last)"
      ],
      "execution_count": null,
      "outputs": [
        {
          "output_type": "stream",
          "name": "stdout",
          "text": [
            "314 407\n"
          ]
        }
      ]
    },
    {
      "cell_type": "markdown",
      "metadata": {
        "id": "AeVyBYHXk5wB"
      },
      "source": [
        "How can you answer the above accounting for upper- and lowercase?"
      ]
    },
    {
      "cell_type": "code",
      "metadata": {
        "collapsed": true,
        "id": "vbngjJ8lk5wC"
      },
      "source": [
        ""
      ],
      "execution_count": null,
      "outputs": []
    },
    {
      "cell_type": "markdown",
      "metadata": {
        "collapsed": true,
        "id": "onB2s-52k5wC"
      },
      "source": [
        "# Keypoints\n",
        "\n",
        "- Some mathematical operators can be used on strings\n",
        "- Strings can be indexed, Python indexing always starts at 0!\n",
        "- Strings, and other types, have their own methods, which are called using dots after the variable, and then the method name."
      ]
    },
    {
      "cell_type": "markdown",
      "metadata": {
        "id": "72RR4j_KoIp1"
      },
      "source": [
        "\n"
      ]
    },
    {
      "cell_type": "markdown",
      "metadata": {
        "id": "ma3mFJNOmqJz"
      },
      "source": [
        "Source: https://github.com/dlab-berkeley/Python-Fundamentals"
      ]
    }
  ]
}