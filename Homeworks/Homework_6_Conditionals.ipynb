{
  "nbformat": 4,
  "nbformat_minor": 0,
  "metadata": {
    "kernelspec": {
      "display_name": "Python 3",
      "language": "python",
      "name": "python3"
    },
    "language_info": {
      "codemirror_mode": {
        "name": "ipython",
        "version": 3
      },
      "file_extension": ".py",
      "mimetype": "text/x-python",
      "name": "python",
      "nbconvert_exporter": "python",
      "pygments_lexer": "ipython3",
      "version": "3.7.1"
    },
    "colab": {
      "name": "Homework_6_Conditionals.ipynb",
      "provenance": []
    }
  },
  "cells": [
    {
      "cell_type": "markdown",
      "metadata": {
        "id": "lJYnPMh3ZfQl"
      },
      "source": [
        "# Conditionals\n",
        "\n",
        "**Questions**:\n",
        "\n",
        "- \"How can programs do different things for different data?\"\n",
        "\n",
        "**Learning Objectives**:\n",
        "\n",
        "- \"Correctly write programs that use if and else statements and simple Boolean expressions.\"\n",
        "- \"Trace the execution of unnested conditionals and conditionals inside loops.\"\n",
        "keypoints:\n",
        "- \"Use `if` statements to control whether or not a block of code is executed.\"\n",
        "- \"Conditionals are often used inside loops.\"\n",
        "- \"Use `else` to execute a block of code when an `if` condition is *not* true.\"\n",
        "- \"Use `elif` to specify additional tests.\"\n",
        "- \"Conditions are tested once, in order.\"\n",
        "* * * * *"
      ]
    },
    {
      "cell_type": "markdown",
      "metadata": {
        "id": "WUWIbci4ZfQm"
      },
      "source": [
        "## `bool` data type\n",
        "\n",
        "A *Boolean* variable is one that can take the values of either `True` or `False`. They are used to indicate the presence or absence of a certain condition. You can test the value of a variable and a *Boolean* value will be returned. In Python, `bool` is the data type for *Boolean* values."
      ]
    },
    {
      "cell_type": "code",
      "metadata": {
        "id": "_cWvnIQ_ZfQn"
      },
      "source": [
        "type(True)"
      ],
      "execution_count": null,
      "outputs": []
    },
    {
      "cell_type": "code",
      "metadata": {
        "id": "3R6oR-HPZfQn"
      },
      "source": [
        "5 > 6"
      ],
      "execution_count": null,
      "outputs": []
    },
    {
      "cell_type": "markdown",
      "metadata": {
        "id": "arNJ5H0TZfQn"
      },
      "source": [
        "## Use `if` statements to control whether or not a block of code is executed.\n",
        "\n",
        "*   An `if` statement (more properly called a *conditional* statement)\n",
        "    controls whether some block of code is executed or not.\n",
        "*   Structure is similar to a `for` statement:\n",
        "    *   First line opens with `if`, contains a *Boolean* variable or expression, and ends with a colon\n",
        "    *   Body containing one or more statements is indented (usually by 4 spaces)\n"
      ]
    },
    {
      "cell_type": "code",
      "metadata": {
        "id": "MwvPmdFUZfQo"
      },
      "source": [
        "num = 105\n",
        "if num > 100:\n",
        "    print(num, 'is high')\n",
        "\n",
        "num = 60\n",
        "if num > 50:\n",
        "    print (num, 'is medium')"
      ],
      "execution_count": null,
      "outputs": []
    },
    {
      "cell_type": "markdown",
      "metadata": {
        "id": "Dxpf4M7wZfQo"
      },
      "source": [
        "\n",
        "## Conditionals are often used inside loops.\n",
        "\n",
        "*   Not much point using a conditional when we know the value (as above).\n",
        "*   But useful when we have a collection to process."
      ]
    },
    {
      "cell_type": "code",
      "metadata": {
        "id": "J75i6Y5KZfQo"
      },
      "source": [
        "num = [20, 43, 12, 88, 97]\n",
        "for number in num:\n",
        "    if number > 100:\n",
        "        print(number, 'is high')"
      ],
      "execution_count": null,
      "outputs": []
    },
    {
      "cell_type": "markdown",
      "metadata": {
        "id": "egLHp3SVZfQo"
      },
      "source": [
        "## Use `else` to execute a block of code when an `if` condition is *not* true.\n",
        "\n",
        "*   `else` is always attached to `if`.\n",
        "*   Allows us to specify an alternative to execute when the `if` *branch* isn't taken.\n"
      ]
    },
    {
      "cell_type": "code",
      "metadata": {
        "id": "v1vxr0cUZfQp"
      },
      "source": [
        "num = [20, 43, 12, 88, 97]\n",
        "for number in num:\n",
        "    if number > 100:\n",
        "        print(number, 'is high')\n",
        "    else:\n",
        "        print(number, 'is not high')"
      ],
      "execution_count": null,
      "outputs": []
    },
    {
      "cell_type": "markdown",
      "metadata": {
        "id": "FARr8uVbZfQp"
      },
      "source": [
        "## Use `elif` to specify additional tests.\n",
        "\n",
        "*   May want to provide several alternative choices, each with its own test.\n",
        "*   Use `elif` (short for \"else if\") and a condition to specify these.\n",
        "*   Always associated with an `if`.\n",
        "*   Must come before the `else` (which is the \"catch all\")."
      ]
    },
    {
      "cell_type": "code",
      "metadata": {
        "id": "sfJbSloQZfQp"
      },
      "source": [
        "num = [20, 43, 12, 88, 97]\n",
        "for number in num:\n",
        "    if number > 100:\n",
        "        print(number, 'is high')\n",
        "    elif number > 50:\n",
        "        print(number, 'is medium')\n",
        "    else:\n",
        "        print(number, 'is low')"
      ],
      "execution_count": null,
      "outputs": []
    },
    {
      "cell_type": "markdown",
      "metadata": {
        "id": "M5S_y12TZfQp"
      },
      "source": [
        "# Use [boolean operators](https://github.com/dlab-berkeley/python-intensive/blob/master/Glossary.md#boolean-operators) to make complex statements\n",
        "\n",
        "I can also generate more complex conditional statements with boolean operators\n",
        "like **and** and **or**, and use comparators like \"<\", \">\""
      ]
    },
    {
      "cell_type": "code",
      "metadata": {
        "id": "Tb6lW-viZfQp"
      },
      "source": [
        "ages = [20, 43, 12, 88, 97]\n",
        "for age in ages:\n",
        "    if age > 65 or age < 16:\n",
        "        print(age, 'is outside the labor force')\n",
        "    else:\n",
        "        print(age, 'is in the labor force')"
      ],
      "execution_count": null,
      "outputs": []
    },
    {
      "cell_type": "markdown",
      "metadata": {
        "id": "TfHlQr3YZfQq"
      },
      "source": [
        "If we want the condition to test whether two things are the same, then we use two equals signs: `==`"
      ]
    },
    {
      "cell_type": "code",
      "metadata": {
        "id": "pheXjTkOZfQq"
      },
      "source": [
        "words = ['bears', 'beets', 'battlestar galacticta', 'skateboarding', 'peanut parfait']\n",
        "\n",
        "for word in words:\n",
        "    if word[0] == 'b':\n",
        "        print(word + ' starts with \"b\"!')"
      ],
      "execution_count": null,
      "outputs": []
    },
    {
      "cell_type": "markdown",
      "metadata": {
        "id": "cnnjMOPrZfQq"
      },
      "source": [
        "If we want our block of code to only run if two things are **not** the same, then we use an exclamation point: `!=`"
      ]
    },
    {
      "cell_type": "code",
      "metadata": {
        "id": "keuyL6UQZfQq"
      },
      "source": [
        "for word in words:\n",
        "    if word[0] != 'b':\n",
        "        print(word + ' starts with something else!')"
      ],
      "execution_count": null,
      "outputs": []
    },
    {
      "cell_type": "markdown",
      "metadata": {
        "id": "dCSjFuREZfQr"
      },
      "source": [
        "## Conditions are tested once, in order.\n",
        "\n",
        "*   Python steps through the branches of the conditional in order, testing each in turn.\n",
        "*   So ordering matters."
      ]
    },
    {
      "cell_type": "code",
      "metadata": {
        "id": "9-7dFUr2ZfQr"
      },
      "source": [
        "grade = 85\n",
        "if grade >= 70:\n",
        "    print('grade is C')\n",
        "elif grade >= 80:\n",
        "    print('grade is B')\n",
        "elif grade >= 90:\n",
        "    print('grade is A')"
      ],
      "execution_count": null,
      "outputs": []
    },
    {
      "cell_type": "markdown",
      "metadata": {
        "id": "1lhEWS3dZfQr"
      },
      "source": [
        "*   Conditionals do *not* automatically go back and re-evaluate if values change."
      ]
    },
    {
      "cell_type": "code",
      "metadata": {
        "id": "vuUShN7RZfQr"
      },
      "source": [
        "population = 10000\n",
        "if population > 200000:\n",
        "    print('large city')\n",
        "else:\n",
        "    print('small city')\n",
        "    population = 500000"
      ],
      "execution_count": null,
      "outputs": []
    },
    {
      "cell_type": "markdown",
      "metadata": {
        "id": "da3q9NjmZfQr"
      },
      "source": [
        "## Challenge 1: Trimming Values\n",
        "\n",
        "Fill in the blanks so that this program creates a new list\n",
        "containing zeroes where the original list's values were negative\n",
        "and ones where the original list's values were 0 or above.\n"
      ]
    },
    {
      "cell_type": "code",
      "metadata": {
        "id": "R7JzFC7wZfQs"
      },
      "source": [
        "original = [-1.5, 0.2, 0.4, 0.0, -1.3, 0.4]\n",
        "result = ____\n",
        "for value in original:\n",
        "    if ____:\n",
        "        result.append(0)\n",
        "    else:\n",
        "        ____\n",
        "print(result)"
      ],
      "execution_count": null,
      "outputs": []
    },
    {
      "cell_type": "markdown",
      "metadata": {
        "id": "a38wFaSTZfQs"
      },
      "source": [
        "## Challenge 2: String Conditionals\n",
        "\n",
        "Here are our presidents again. Create a list of all the presidents whose last name starts with the letter B.\n"
      ]
    },
    {
      "cell_type": "code",
      "metadata": {
        "id": "CEEtc43cZfQs"
      },
      "source": [
        "presidents_full = [\"George Washington\", \"John Adams\", \"Thomas Jefferson\", \"James Madison\", \"James Monroe\", \\\n",
        "        \"John Quincy Adams\", \"Andrew Jackson\", \"Martin Van Buren\", \"William Henry Harrison\", \"John Tyler\", \\\n",
        "        \"James K. Polk\", \"Zachary Taylor\", \"Millard Fillmore\", \"Franklin Pierce\", \"James Buchanan\", \\\n",
        "        \"Abraham Lincoln\", \"Andrew Johnson\", \"Ulysses S. Grant\", \"Rutherford B. Hayes\", \"James A. Garfield\", \\\n",
        "        \"Chester A. Arthur\", \"Grover Cleveland\", \"Benjamin Harrison\", \"Grover Cleveland\", \"William McKinley\", \\\n",
        "        \"Theodore Roosevelt\", \"William Howard Taft\", \"Woodrow Wilson\", \"Warren G. Harding\", \"Calvin Coolidge\", \\\n",
        "        \"Herbert Hoover\", \"Franklin D. Roosevelt\", \"Harry S. Truman\", \"Dwight D. Eisenhower\", \"John F. Kennedy\", \\\n",
        "        \"Lyndon B. Johnson\", \"Richard Nixon\", \"Gerald Ford\", \"Jimmy Carter\", \"Ronald Reagan\", \"George H. W. Bush\", \\\n",
        "        \"Bill Clinton\", \"George W. Bush\", \"Barack Obama\"]"
      ],
      "execution_count": null,
      "outputs": []
    },
    {
      "cell_type": "markdown",
      "metadata": {
        "collapsed": true,
        "id": "W1uCDwCgZfQu"
      },
      "source": [
        "*****\n",
        "\n",
        "## Keypoints\n",
        "\n",
        "1. Use `if` statements to control whether or not a block of code is executed.\n",
        "2. Conditionals are often used inside loops.\n",
        "3. Use `else` to execute a block of code when an `if` condition is *not* true.\n",
        "4. Use `elif` to specify additional tests.\n",
        "5. Use boolean operators to make complex statements.\n",
        "6. Conditions are tested once, in order."
      ]
    },
    {
      "cell_type": "code",
      "metadata": {
        "id": "OT5FJ2irZfQu"
      },
      "source": [
        "Source: https://github.com/dlab-berkeley/Python-Fundamentals"
      ],
      "execution_count": null,
      "outputs": []
    }
  ]
}