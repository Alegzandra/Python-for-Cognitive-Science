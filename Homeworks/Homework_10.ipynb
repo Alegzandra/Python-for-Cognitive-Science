{
  "cells": [
    {
      "cell_type": "markdown",
      "metadata": {
        "id": "fwtarxDRu9b8"
      },
      "source": [
        "# CSV Files \n",
        "\n",
        "\n",
        "**Questions**:\n",
        "- \"How do I open a csv file and read its contents?\"\n",
        "- \"How do I write a csv file with the variables I generated?\"\n",
        "\n",
        "**Learning Objectives**:\n",
        "- \"Understand how to read/write csv files.\"\n",
        "* * * * *\n"
      ]
    },
    {
      "cell_type": "markdown",
      "metadata": {
        "id": "-L5STFgou9cv"
      },
      "source": [
        "# Reading/Writing csv files using `pandas`\n",
        "\n",
        "Reading in a dataset that is stored as a \"comma separated file\" (csv) is easy in Python using the `pandas` package. Central to the `pandas` package is the `DataFrame` type, which stores 2-dimensional tabular data in a format similar to Excel spreedsheets.\n",
        "\n",
        "Let's import `pandas` and use it's `read_csv()` function to load the data stored in a csv file into a `DataFrame`"
      ]
    },
    {
      "cell_type": "code",
      "execution_count": null,
      "metadata": {
        "id": "RJeZECaGu9cw"
      },
      "outputs": [],
      "source": [
        "# You might need to install the pandas library first. \n",
        "# Unhashtag the line below and run this cell to install it:\n",
        "# !pip install pandas"
      ]
    },
    {
      "cell_type": "code",
      "execution_count": null,
      "metadata": {
        "id": "ev2422XVu9cx"
      },
      "outputs": [],
      "source": [
        "import pandas as pd\n",
        "caps = pd.read_csv('capitals.csv')"
      ]
    },
    {
      "cell_type": "markdown",
      "metadata": {
        "id": "CBHPk6Mgu9cz"
      },
      "source": [
        "We can look at the first 5 (or any number) rows of data using the `.head()` method of the `DataFrame` object."
      ]
    },
    {
      "cell_type": "code",
      "execution_count": null,
      "metadata": {
        "id": "sk1AzkFeu9c0"
      },
      "outputs": [],
      "source": [
        "caps.head()"
      ]
    },
    {
      "cell_type": "markdown",
      "metadata": {
        "id": "tW6sqbcUu9c1"
      },
      "source": [
        "To see how many data points and variables exist in the dataframe we can simply use the `.shape` attribute."
      ]
    },
    {
      "cell_type": "code",
      "execution_count": null,
      "metadata": {
        "id": "PTkKpJKHu9c3"
      },
      "outputs": [],
      "source": [
        "caps.shape"
      ]
    },
    {
      "cell_type": "markdown",
      "metadata": {
        "id": "_M8iNjDYu9c4"
      },
      "source": [
        "Or we can get more detailed information about the number of entries (e.g. observations, data points) and the variables for each entry using the `.info()` method."
      ]
    },
    {
      "cell_type": "code",
      "execution_count": null,
      "metadata": {
        "id": "RfsxWpi6u9c5"
      },
      "outputs": [],
      "source": [
        "caps.info()"
      ]
    },
    {
      "cell_type": "markdown",
      "metadata": {
        "id": "H8bdqTUCu9c5"
      },
      "source": [
        "It looks like there is a single missing value in the Capital variable (there are 199 non-null objects, not 200). Let's remove that missing value (or `na`) using the `dropna()` method so that we can save an updated version of the csv file."
      ]
    },
    {
      "cell_type": "code",
      "execution_count": null,
      "metadata": {
        "id": "qz_2lq78u9c6"
      },
      "outputs": [],
      "source": [
        "caps_nomissing = caps.dropna()\n",
        "caps_nomissing.info()"
      ]
    },
    {
      "cell_type": "markdown",
      "metadata": {
        "id": "VbdVwa-1u9c7"
      },
      "source": [
        "That looks better. Now let's write this updated `DataFrame` out to a csv file."
      ]
    },
    {
      "cell_type": "code",
      "execution_count": null,
      "metadata": {
        "id": "kjqJsV2uu9c8"
      },
      "outputs": [],
      "source": [
        "caps_nomissing.to_csv('capitals_nomissing.csv')"
      ]
    },
    {
      "cell_type": "markdown",
      "metadata": {
        "id": "j-rozoxdu9c9"
      },
      "source": [
        "For more information on using `pandas` come to the D-Lab's workshop titled \"Introduction to Pandas\". Here's a [link](https://github.com/dlab-berkeley/introduction-to-pandas) to the GitHub repo containing the course materials."
      ]
    },
    {
      "cell_type": "markdown",
      "metadata": {
        "id": "hZakw2tLu9c_"
      },
      "source": [
        "\n",
        "\n",
        "## Challenge 1: Writing a CSV file\n",
        "\n",
        "Below is a `pandas` `DataFrame` created from a dictionary of lists representing various information about US states. Write this [object](https://github.com/dlab-berkeley/python-intensive/blob/master/Glossary.md#object) as a CSV file called `states.csv`"
      ]
    },
    {
      "cell_type": "code",
      "execution_count": null,
      "metadata": {
        "id": "Ytan-p-gu9dA",
        "colab": {
          "base_uri": "https://localhost:8080/",
          "height": 206
        },
        "outputId": "823d8ffd-8f65-4f28-8382-c1aaf7f41c50"
      },
      "outputs": [
        {
          "output_type": "execute_result",
          "data": {
            "text/html": [
              "\n",
              "  <div id=\"df-782054f2-c7b2-48b1-b60a-9ce86b12e86c\">\n",
              "    <div class=\"colab-df-container\">\n",
              "      <div>\n",
              "<style scoped>\n",
              "    .dataframe tbody tr th:only-of-type {\n",
              "        vertical-align: middle;\n",
              "    }\n",
              "\n",
              "    .dataframe tbody tr th {\n",
              "        vertical-align: top;\n",
              "    }\n",
              "\n",
              "    .dataframe thead th {\n",
              "        text-align: right;\n",
              "    }\n",
              "</style>\n",
              "<table border=\"1\" class=\"dataframe\">\n",
              "  <thead>\n",
              "    <tr style=\"text-align: right;\">\n",
              "      <th></th>\n",
              "      <th>state</th>\n",
              "      <th>population</th>\n",
              "      <th>year in union</th>\n",
              "      <th>state bird</th>\n",
              "      <th>capital</th>\n",
              "    </tr>\n",
              "  </thead>\n",
              "  <tbody>\n",
              "    <tr>\n",
              "      <th>0</th>\n",
              "      <td>Ohio</td>\n",
              "      <td>11.6</td>\n",
              "      <td>1803</td>\n",
              "      <td>Northern cardinal</td>\n",
              "      <td>Columbus</td>\n",
              "    </tr>\n",
              "    <tr>\n",
              "      <th>1</th>\n",
              "      <td>Michigan</td>\n",
              "      <td>9.9</td>\n",
              "      <td>1837</td>\n",
              "      <td>NaN</td>\n",
              "      <td>Lansing</td>\n",
              "    </tr>\n",
              "    <tr>\n",
              "      <th>2</th>\n",
              "      <td>California</td>\n",
              "      <td>39.1</td>\n",
              "      <td>1850</td>\n",
              "      <td>NaN</td>\n",
              "      <td>Sacramento</td>\n",
              "    </tr>\n",
              "    <tr>\n",
              "      <th>3</th>\n",
              "      <td>Florida</td>\n",
              "      <td>20.2</td>\n",
              "      <td>1834</td>\n",
              "      <td>NaN</td>\n",
              "      <td>Tallahassee</td>\n",
              "    </tr>\n",
              "    <tr>\n",
              "      <th>4</th>\n",
              "      <td>Alabama</td>\n",
              "      <td>4.9</td>\n",
              "      <td>1819</td>\n",
              "      <td>NaN</td>\n",
              "      <td>Montgomery</td>\n",
              "    </tr>\n",
              "  </tbody>\n",
              "</table>\n",
              "</div>\n",
              "      <button class=\"colab-df-convert\" onclick=\"convertToInteractive('df-782054f2-c7b2-48b1-b60a-9ce86b12e86c')\"\n",
              "              title=\"Convert this dataframe to an interactive table.\"\n",
              "              style=\"display:none;\">\n",
              "        \n",
              "  <svg xmlns=\"http://www.w3.org/2000/svg\" height=\"24px\"viewBox=\"0 0 24 24\"\n",
              "       width=\"24px\">\n",
              "    <path d=\"M0 0h24v24H0V0z\" fill=\"none\"/>\n",
              "    <path d=\"M18.56 5.44l.94 2.06.94-2.06 2.06-.94-2.06-.94-.94-2.06-.94 2.06-2.06.94zm-11 1L8.5 8.5l.94-2.06 2.06-.94-2.06-.94L8.5 2.5l-.94 2.06-2.06.94zm10 10l.94 2.06.94-2.06 2.06-.94-2.06-.94-.94-2.06-.94 2.06-2.06.94z\"/><path d=\"M17.41 7.96l-1.37-1.37c-.4-.4-.92-.59-1.43-.59-.52 0-1.04.2-1.43.59L10.3 9.45l-7.72 7.72c-.78.78-.78 2.05 0 2.83L4 21.41c.39.39.9.59 1.41.59.51 0 1.02-.2 1.41-.59l7.78-7.78 2.81-2.81c.8-.78.8-2.07 0-2.86zM5.41 20L4 18.59l7.72-7.72 1.47 1.35L5.41 20z\"/>\n",
              "  </svg>\n",
              "      </button>\n",
              "      \n",
              "  <style>\n",
              "    .colab-df-container {\n",
              "      display:flex;\n",
              "      flex-wrap:wrap;\n",
              "      gap: 12px;\n",
              "    }\n",
              "\n",
              "    .colab-df-convert {\n",
              "      background-color: #E8F0FE;\n",
              "      border: none;\n",
              "      border-radius: 50%;\n",
              "      cursor: pointer;\n",
              "      display: none;\n",
              "      fill: #1967D2;\n",
              "      height: 32px;\n",
              "      padding: 0 0 0 0;\n",
              "      width: 32px;\n",
              "    }\n",
              "\n",
              "    .colab-df-convert:hover {\n",
              "      background-color: #E2EBFA;\n",
              "      box-shadow: 0px 1px 2px rgba(60, 64, 67, 0.3), 0px 1px 3px 1px rgba(60, 64, 67, 0.15);\n",
              "      fill: #174EA6;\n",
              "    }\n",
              "\n",
              "    [theme=dark] .colab-df-convert {\n",
              "      background-color: #3B4455;\n",
              "      fill: #D2E3FC;\n",
              "    }\n",
              "\n",
              "    [theme=dark] .colab-df-convert:hover {\n",
              "      background-color: #434B5C;\n",
              "      box-shadow: 0px 1px 3px 1px rgba(0, 0, 0, 0.15);\n",
              "      filter: drop-shadow(0px 1px 2px rgba(0, 0, 0, 0.3));\n",
              "      fill: #FFFFFF;\n",
              "    }\n",
              "  </style>\n",
              "\n",
              "      <script>\n",
              "        const buttonEl =\n",
              "          document.querySelector('#df-782054f2-c7b2-48b1-b60a-9ce86b12e86c button.colab-df-convert');\n",
              "        buttonEl.style.display =\n",
              "          google.colab.kernel.accessAllowed ? 'block' : 'none';\n",
              "\n",
              "        async function convertToInteractive(key) {\n",
              "          const element = document.querySelector('#df-782054f2-c7b2-48b1-b60a-9ce86b12e86c');\n",
              "          const dataTable =\n",
              "            await google.colab.kernel.invokeFunction('convertToInteractive',\n",
              "                                                     [key], {});\n",
              "          if (!dataTable) return;\n",
              "\n",
              "          const docLinkHtml = 'Like what you see? Visit the ' +\n",
              "            '<a target=\"_blank\" href=https://colab.research.google.com/notebooks/data_table.ipynb>data table notebook</a>'\n",
              "            + ' to learn more about interactive tables.';\n",
              "          element.innerHTML = '';\n",
              "          dataTable['output_type'] = 'display_data';\n",
              "          await google.colab.output.renderOutput(dataTable, element);\n",
              "          const docLink = document.createElement('div');\n",
              "          docLink.innerHTML = docLinkHtml;\n",
              "          element.appendChild(docLink);\n",
              "        }\n",
              "      </script>\n",
              "    </div>\n",
              "  </div>\n",
              "  "
            ],
            "text/plain": [
              "        state  population  year in union         state bird      capital\n",
              "0        Ohio        11.6           1803  Northern cardinal     Columbus\n",
              "1    Michigan         9.9           1837                NaN      Lansing\n",
              "2  California        39.1           1850                NaN   Sacramento\n",
              "3     Florida        20.2           1834                NaN  Tallahassee\n",
              "4     Alabama         4.9           1819                NaN   Montgomery"
            ]
          },
          "metadata": {},
          "execution_count": 3
        }
      ],
      "source": [
        "import pandas as pd\n",
        "import numpy as np\n",
        "states = pd.DataFrame( {'state': ['Ohio', 'Michigan', 'California', 'Florida', 'Alabama'],\n",
        "                        'population': [11.6, 9.9, 39.1, 20.2, 4.9], \n",
        "                        'year in union': [1803, 1837, 1850, 1834, 1819], \n",
        "                        'state bird': ['Northern cardinal', np.nan, np.nan, np.nan, np.nan], \n",
        "                        'capital': ['Columbus', 'Lansing', 'Sacramento', 'Tallahassee', 'Montgomery']})\n",
        "states"
      ]
    },
    {
      "cell_type": "markdown",
      "source": [
        "## Challenge 2.\n",
        "Replace nan values in 'state bird' object with the values: ['Southern cardinal', 'Eastern cardinal', 'Western cardinal', 'Center cardinal']. Rewrite `states.csv` with the new dataframe."
      ],
      "metadata": {
        "id": "qZKcYmIUw895"
      }
    },
    {
      "cell_type": "code",
      "source": [
        "print(states[\"state bird\"][1])\n",
        "states[\"state bird\"][1] = 2\n",
        "print(states[\"state bird\"][1])\n",
        "print(states)\n",
        "#states[\"state bird\"] = ['Northern cardinal', 'Southern cardinal', 'Eastern cardinal', 'Western cardinal', 'Center cardinal']\n",
        "#print(states)"
      ],
      "metadata": {
        "colab": {
          "base_uri": "https://localhost:8080/"
        },
        "id": "0pIxP9eg4kdT",
        "outputId": "71732f5f-0464-4f0a-e675-3356e19df631"
      },
      "execution_count": null,
      "outputs": [
        {
          "output_type": "stream",
          "name": "stdout",
          "text": [
            "2\n",
            "2\n",
            "        state  population  year in union         state bird      capital\n",
            "0        Ohio        11.6           1803  Northern cardinal     Columbus\n",
            "1    Michigan         9.9           1837                  2      Lansing\n",
            "2  California        39.1           1850   Eastern cardinal   Sacramento\n",
            "3     Florida        20.2           1834   Western cardinal  Tallahassee\n",
            "4     Alabama         4.9           1819    Center cardinal   Montgomery\n"
          ]
        },
        {
          "output_type": "stream",
          "name": "stderr",
          "text": [
            "/usr/local/lib/python3.7/dist-packages/ipykernel_launcher.py:2: SettingWithCopyWarning: \n",
            "A value is trying to be set on a copy of a slice from a DataFrame\n",
            "\n",
            "See the caveats in the documentation: https://pandas.pydata.org/pandas-docs/stable/user_guide/indexing.html#returning-a-view-versus-a-copy\n",
            "  \n"
          ]
        }
      ]
    },
    {
      "cell_type": "markdown",
      "source": [
        "## Challenge 3.\n",
        "Delete column 'year in union' using 'drop' method and print the dataframe statistics using '.describe()' method."
      ],
      "metadata": {
        "id": "55TGhhfQyd98"
      }
    }
  ],
  "metadata": {
    "kernelspec": {
      "display_name": "Python 3",
      "language": "python",
      "name": "python3"
    },
    "language_info": {
      "codemirror_mode": {
        "name": "ipython",
        "version": 3
      },
      "file_extension": ".py",
      "mimetype": "text/x-python",
      "name": "python",
      "nbconvert_exporter": "python",
      "pygments_lexer": "ipython3",
      "version": "3.8.3"
    },
    "toc": {
      "base_numbering": 1,
      "nav_menu": {},
      "number_sections": false,
      "sideBar": true,
      "skip_h1_title": false,
      "title_cell": "Table of Contents",
      "title_sidebar": "Contents",
      "toc_cell": false,
      "toc_position": {
        "height": "calc(100% - 180px)",
        "left": "10px",
        "top": "150px",
        "width": "271.6px"
      },
      "toc_section_display": true,
      "toc_window_display": false
    },
    "varInspector": {
      "cols": {
        "lenName": 16,
        "lenType": 16,
        "lenVar": 40
      },
      "kernels_config": {
        "python": {
          "delete_cmd_postfix": "",
          "delete_cmd_prefix": "del ",
          "library": "var_list.py",
          "varRefreshCmd": "print(var_dic_list())"
        },
        "r": {
          "delete_cmd_postfix": ") ",
          "delete_cmd_prefix": "rm(",
          "library": "var_list.r",
          "varRefreshCmd": "cat(var_dic_list()) "
        }
      },
      "types_to_exclude": [
        "module",
        "function",
        "builtin_function_or_method",
        "instance",
        "_Feature"
      ],
      "window_display": false
    },
    "colab": {
      "name": "Homework for lesson 10",
      "provenance": []
    }
  },
  "nbformat": 4,
  "nbformat_minor": 0
}