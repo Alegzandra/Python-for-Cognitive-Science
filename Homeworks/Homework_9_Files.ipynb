{
  "cells": [
    {
      "cell_type": "markdown",
      "metadata": {
        "id": "Es_uZ0PrdQKj"
      },
      "source": [
        "# Files \n",
        "\n",
        "\n",
        "**Questions**:\n",
        "- \"How do a open a file and read its contents?\"\n",
        "- \"How do I write a file with the variables I generated?\"\n",
        "- \"Is there a faster way to generate a new list by changing all the elements in an old one?\"\n",
        "- \"How can I write cleaner, more compact code?\"\n",
        "\n",
        "\n",
        "**Learning Objectives**:\n",
        "- \"Learn the Pythonic way of reading in files.\"\n",
        "- \"Understand how to read/write text files and csv files.\"\n",
        "- \"Understand and write a `list comprehension`.\"\n",
        "* * * * *\n",
        "\n"
      ]
    },
    {
      "cell_type": "markdown",
      "metadata": {
        "id": "JmzNmci-dQK6"
      },
      "source": [
        "## Reading from a file\n",
        "\n",
        "Reading a file requires three steps:\n",
        "\n",
        "1. Opening the file\n",
        "2. Reading the file\n",
        "3. Closing the file"
      ]
    },
    {
      "cell_type": "code",
      "execution_count": null,
      "metadata": {
        "id": "xTqvdM21dQK8"
      },
      "outputs": [],
      "source": [
        "my_file = open(\"example.txt\", \"r\")\n",
        "text = my_file.read()\n",
        "my_file.close()\n",
        "\n",
        "print(text)"
      ]
    },
    {
      "cell_type": "markdown",
      "metadata": {
        "id": "LI8ofCWIdQLC"
      },
      "source": [
        "- However, use the `with open` syntax and this will automatically close files for you. \n",
        "- The `'r'` indicates that you are reading the file, as opposed to, say, writing to it."
      ]
    },
    {
      "cell_type": "code",
      "execution_count": null,
      "metadata": {
        "id": "pQVHcyOgdQLF"
      },
      "outputs": [],
      "source": [
        "# better code\n",
        "with open('example.txt', 'r') as my_file:\n",
        "    text = my_file.read()\n",
        "    \n",
        "print(text)"
      ]
    },
    {
      "cell_type": "markdown",
      "metadata": {
        "id": "qoInwTiCdQLG"
      },
      "source": [
        "`with` will keep the file open as long as the program is still in the indented block, once outside, the file is no longer open, and you can't access the contents, only what you have saved to a variable."
      ]
    },
    {
      "cell_type": "markdown",
      "metadata": {
        "id": "iMs6ly3jdQLI"
      },
      "source": [
        "## Reading a file as a list\n",
        "\n",
        "- Very often we want to read in a file line by line, storing those lines as a list.\n",
        "- To do that, we can use the `for line in my_file` syntax:"
      ]
    },
    {
      "cell_type": "code",
      "execution_count": null,
      "metadata": {
        "id": "dnJyYGMidQLK"
      },
      "outputs": [],
      "source": [
        "stored = []\n",
        "with open('example.txt', 'r') as my_file:\n",
        "    for line in my_file:\n",
        "        stored.append(line)"
      ]
    },
    {
      "cell_type": "code",
      "execution_count": null,
      "metadata": {
        "id": "27XhTIKKdQLN"
      },
      "outputs": [],
      "source": [
        "stored"
      ]
    },
    {
      "cell_type": "markdown",
      "metadata": {
        "id": "hT-8g2p1dQLT"
      },
      "source": [
        "Remember that the variable name can be anything. It does not have to be `line`. Files are simply always read line by line."
      ]
    },
    {
      "cell_type": "markdown",
      "metadata": {
        "id": "OV1_WDrcdQLV"
      },
      "source": [
        "- We can use the `strip` [method](https://github.com/dlab-berkeley/python-intensive/blob/master/Glossary.md#method) to get rid of those line breaks at the end"
      ]
    },
    {
      "cell_type": "code",
      "execution_count": null,
      "metadata": {
        "id": "-1zPgFTXdQLY"
      },
      "outputs": [],
      "source": [
        "stored = []\n",
        "with open('example.txt', 'r') as my_file:\n",
        "    for line in my_file:\n",
        "        stored.append(line.strip())"
      ]
    },
    {
      "cell_type": "code",
      "execution_count": null,
      "metadata": {
        "id": "y3zs6qoSdQLa"
      },
      "outputs": [],
      "source": [
        "stored"
      ]
    },
    {
      "cell_type": "markdown",
      "metadata": {
        "id": "CHWzFLPPdQLb"
      },
      "source": [
        "## Read a text file in one line\n",
        "\n",
        "You can also use the `open` function's `.read()` method. Let's import the \"fiji2014.txt\" file from the Day 4 data/txts folder:"
      ]
    },
    {
      "cell_type": "code",
      "execution_count": null,
      "metadata": {
        "id": "DjxYofg5dQLc"
      },
      "outputs": [],
      "source": [
        "my_text = open(\"fiji2014.txt\", encoding = \"utf-8\").read()\n",
        "print(my_text)"
      ]
    },
    {
      "cell_type": "markdown",
      "metadata": {
        "id": "B0e8BkcjdQLd"
      },
      "source": [
        "## Writing to a file\n",
        "\n",
        "We can use the `with open` syntax for writing files as well."
      ]
    },
    {
      "cell_type": "code",
      "execution_count": null,
      "metadata": {
        "id": "oVaI-fHwdQLe"
      },
      "outputs": [],
      "source": [
        "# this is okay...\n",
        "new_file = open(\"example2.txt\", \"w\")\n",
        "bees = ['bears', 'beets', 'Battlestar Galactica']\n",
        "for i in bees:\n",
        "    new_file.write(i + '\\n')\n",
        "new_file.close()"
      ]
    },
    {
      "cell_type": "code",
      "execution_count": null,
      "metadata": {
        "id": "9Dp7cz8kdQLh"
      },
      "outputs": [],
      "source": [
        "# but this is better...\n",
        "bees = ['bears', 'beets', 'Battlestar Galactica']\n",
        "with open('example2.txt', 'w') as new_file:\n",
        "    for i in bees:\n",
        "        new_file.write(i + '\\n')"
      ]
    },
    {
      "cell_type": "markdown",
      "metadata": {
        "id": "JOjPVCujdQLi"
      },
      "source": [
        "Let's take a look at the file we wrote.\n",
        "- An exclamation point `!` puts you in bash"
      ]
    },
    {
      "cell_type": "code",
      "execution_count": null,
      "metadata": {
        "id": "k5GcGlgqdQLj"
      },
      "outputs": [],
      "source": [
        "# for Macs use the `cat` command\n",
        "!cat example2.txt"
      ]
    },
    {
      "cell_type": "code",
      "execution_count": null,
      "metadata": {
        "id": "o0_DFDr_dQLl"
      },
      "outputs": [],
      "source": [
        "# for windows use the `type` command\n",
        "!type example2.txt"
      ]
    },
    {
      "cell_type": "markdown",
      "source": [
        "# List Comprehensions are another way of doing loops with accumulation\n",
        "\n",
        "- First, let's look at how we would create a \"transformed\" version of a list with loops and the \"accumulation\" pattern."
      ],
      "metadata": {
        "id": "ythCHQNshoVD"
      }
    },
    {
      "cell_type": "code",
      "source": [
        "# Multiply every number in a list by 2 using a for loop\n",
        "nums1 = [5, 1, 3, 10]\n",
        "nums2 = []\n",
        "for x in nums1:\n",
        "    nums2.append(x * 2)\n",
        "    \n",
        "print(nums2)"
      ],
      "metadata": {
        "id": "K9_zuioxhquK"
      },
      "execution_count": null,
      "outputs": []
    },
    {
      "cell_type": "markdown",
      "source": [
        "- Python has another way to perform iteration called `list comprehensions`, which is shorter and more compact. "
      ],
      "metadata": {
        "id": "RhDMHSezhuUS"
      }
    },
    {
      "cell_type": "code",
      "source": [
        "# Multiply every number in a list by 2 using a list comprehension\n",
        "nums2 = [x * 2 for x in nums1]\n",
        "\n",
        "print(nums2)"
      ],
      "metadata": {
        "id": "2aFKK7zkhwa6"
      },
      "execution_count": null,
      "outputs": []
    },
    {
      "cell_type": "markdown",
      "source": [
        "## List comprehensions can incorporate conditional logic\n",
        "\n",
        "- What if we also have some conditional logic?"
      ],
      "metadata": {
        "id": "8Bg8Y7gRhyqT"
      }
    },
    {
      "cell_type": "code",
      "source": [
        "# Multiply every number in a list by 2, but only if the number is greater than 4\n",
        "nums1 = [5, 1, 3, 10]\n",
        "nums2 = []\n",
        "for x in nums1:\n",
        "    if x > 4:\n",
        "        nums2.append(x * 2)\n",
        "    \n",
        "print(nums2)"
      ],
      "metadata": {
        "id": "dRRbIGlghzui"
      },
      "execution_count": null,
      "outputs": []
    },
    {
      "cell_type": "code",
      "source": [
        "# And using a list comprehension\n",
        "nums2 = [x * 2 for x in nums1 if x > 4]\n",
        "\n",
        "print(nums2)"
      ],
      "metadata": {
        "id": "f10Agy18h3Ka"
      },
      "execution_count": null,
      "outputs": []
    },
    {
      "cell_type": "markdown",
      "source": [
        "There are several advantages to list comprehensions, most obvious being cleaner, more readable code. List comprehensions also save variable name space if you are looking to modify elements in a list. Less obvious is that list comprehensions are actually calculated faster than `for` loops!"
      ],
      "metadata": {
        "id": "LrDVsuinh6JC"
      }
    },
    {
      "cell_type": "markdown",
      "metadata": {
        "id": "hEV04NxgdQL4"
      },
      "source": [
        "## Challenge 1: Read in a list\n",
        "\n",
        "The file `counties.txt` has a column of counties in California. Read in the data into a list called `counties`."
      ]
    },
    {
      "cell_type": "code",
      "execution_count": null,
      "metadata": {
        "id": "4J5DfccydQL5"
      },
      "outputs": [],
      "source": [
        ""
      ]
    },
    {
      "cell_type": "markdown",
      "source": [
        "##  Challenge 2: Convert lists\n",
        "\n",
        "Convert the following code to list comprehensions:"
      ],
      "metadata": {
        "id": "RKogsIX4h7n6"
      }
    },
    {
      "cell_type": "code",
      "source": [
        "# Filter elements greater than 4\n",
        "a = [3, 4, 5]\n",
        "b = []\n",
        "for i in a:\n",
        "    if i > 4:\n",
        "        b.append(i)"
      ],
      "metadata": {
        "id": "iGZq-hjGh_wi"
      },
      "execution_count": null,
      "outputs": []
    },
    {
      "cell_type": "code",
      "source": [
        ""
      ],
      "metadata": {
        "id": "jP3ZtL8GiB06"
      },
      "execution_count": null,
      "outputs": []
    },
    {
      "cell_type": "code",
      "source": [
        "# Add three to all list members.\n",
        "a = [3, 4, 5]\n",
        "for i in range(len(a)):\n",
        "    a[i] += 3"
      ],
      "metadata": {
        "id": "TezyeoxoiB96"
      },
      "execution_count": null,
      "outputs": []
    },
    {
      "cell_type": "code",
      "source": [
        ""
      ],
      "metadata": {
        "id": "6TXuZsQPiDtq"
      },
      "execution_count": null,
      "outputs": []
    },
    {
      "cell_type": "code",
      "source": [
        "# Convert items using a dictionary\n",
        "conversions = {'a': 1, 'b': 2, 'c': 3}\n",
        "l = ['a', 'b', 'c']\n",
        "converted_l = []\n",
        "for i in l:\n",
        "    converted_l.append(conversions[i])"
      ],
      "metadata": {
        "id": "mYU23PIGiECy"
      },
      "execution_count": null,
      "outputs": []
    },
    {
      "cell_type": "code",
      "source": [
        ""
      ],
      "metadata": {
        "id": "YTEI0LKHiF8j"
      },
      "execution_count": null,
      "outputs": []
    },
    {
      "cell_type": "markdown",
      "source": [
        "Source: https://github.com/dlab-berkeley/Python-Fundamentals"
      ],
      "metadata": {
        "id": "CqfiYrtQiGF7"
      }
    }
  ],
  "metadata": {
    "kernelspec": {
      "display_name": "Python 3",
      "language": "python",
      "name": "python3"
    },
    "language_info": {
      "codemirror_mode": {
        "name": "ipython",
        "version": 3
      },
      "file_extension": ".py",
      "mimetype": "text/x-python",
      "name": "python",
      "nbconvert_exporter": "python",
      "pygments_lexer": "ipython3",
      "version": "3.8.3"
    },
    "toc": {
      "base_numbering": 1,
      "nav_menu": {},
      "number_sections": false,
      "sideBar": true,
      "skip_h1_title": false,
      "title_cell": "Table of Contents",
      "title_sidebar": "Contents",
      "toc_cell": false,
      "toc_position": {
        "height": "calc(100% - 180px)",
        "left": "10px",
        "top": "150px",
        "width": "271.6px"
      },
      "toc_section_display": true,
      "toc_window_display": false
    },
    "varInspector": {
      "cols": {
        "lenName": 16,
        "lenType": 16,
        "lenVar": 40
      },
      "kernels_config": {
        "python": {
          "delete_cmd_postfix": "",
          "delete_cmd_prefix": "del ",
          "library": "var_list.py",
          "varRefreshCmd": "print(var_dic_list())"
        },
        "r": {
          "delete_cmd_postfix": ") ",
          "delete_cmd_prefix": "rm(",
          "library": "var_list.r",
          "varRefreshCmd": "cat(var_dic_list()) "
        }
      },
      "types_to_exclude": [
        "module",
        "function",
        "builtin_function_or_method",
        "instance",
        "_Feature"
      ],
      "window_display": false
    },
    "colab": {
      "name": "Homework_9_Files.ipynb",
      "provenance": []
    }
  },
  "nbformat": 4,
  "nbformat_minor": 0
}