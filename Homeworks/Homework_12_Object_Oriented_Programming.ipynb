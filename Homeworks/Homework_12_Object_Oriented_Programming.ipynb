{
  "nbformat": 4,
  "nbformat_minor": 0,
  "metadata": {
    "colab": {
      "name": "Homework for Lesson 12 - Object Oriented Programming.ipynb",
      "provenance": [],
      "collapsed_sections": []
    }
  },
  "cells": [
    {
      "cell_type": "markdown",
      "source": [
        "# Lesson 12 - Objected Oriented Programming"
      ],
      "metadata": {
        "id": "2umB-u1ZUh7f"
      }
    },
    {
      "cell_type": "markdown",
      "source": [
        "---"
      ],
      "metadata": {
        "id": "Rt7D9inBUh7j"
      }
    },
    {
      "cell_type": "markdown",
      "source": [
        "Object oriented programming is a data-centered programming paradigm that is based on the idea of grouping data and functions that act on particular data in so-called **classes**. A class can be seen as a complex data-type, a template if you will. Variables that are of that data type are said to be **objects** or **instances** of that class.\n"
      ],
      "metadata": {
        "id": "CZDDxn4rUh7k"
      }
    },
    {
      "cell_type": "markdown",
      "source": [
        "An example will clarify things:"
      ],
      "metadata": {
        "id": "7lx1jEt3Uh7l"
      }
    },
    {
      "cell_type": "code",
      "source": [
        "class Person:\n",
        "    def __init__(self, name, age):\n",
        "        self.name = name\n",
        "        self.age = age"
      ],
      "outputs": [],
      "metadata": {
        "id": "AaCtxV_JUh7l"
      },
      "execution_count": null
    },
    {
      "cell_type": "markdown",
      "source": [
        "Ok, several things happen here. Here we created a class Person with a function `__init__`. Functions that start with underscores are always special functions to Python which are connected with other built-in aspects of the language. The initialisation function will be called when an object of that initialised. Let's do so:"
      ],
      "metadata": {
        "id": "_kdR9k_0Uh7m"
      }
    },
    {
      "cell_type": "code",
      "source": [
        "author = Person(\"Maarten\", 30)\n",
        "print(\"My name is \" + author.name)\n",
        "print(\"My age is \" + str(author.age))"
      ],
      "outputs": [],
      "metadata": {
        "id": "q6Z6sdKyUh7n"
      },
      "execution_count": null
    },
    {
      "cell_type": "markdown",
      "source": [
        "Functions within a class are called **methods**. The initialisation method assigns the two parameters that are passed to variables that *belong to the object*, within a class definition the object is always represented by `self`.\n",
        "\n",
        "The first argument of a method is always `self`, and it will always point to the instance of the class. This first argument however is never explicitly specified when you call the method. It is implicitly passed by Python itself. That is why you see a discrepancy between the number of arguments in the instantiation and in the class definition.\n",
        "\n",
        "\n",
        "Any variable or methods in a class can be accessed using the period (`.`) syntax:\n",
        "\n",
        "    object.variable \n",
        "\n",
        "or:\n",
        "\n",
        "    object.method\n",
        "\n"
      ],
      "metadata": {
        "id": "UrQYW57YUh7o"
      }
    },
    {
      "cell_type": "markdown",
      "source": [
        "In the above example we printed the name and age. We can turn this into a method as well, thus allowing any person to introduce himself/herself. Let's extend our example:"
      ],
      "metadata": {
        "id": "hDPexZZXUh7o"
      }
    },
    {
      "cell_type": "code",
      "source": [
        "class Person:\n",
        "    def __init__(self, name, age):\n",
        "        self.name = name\n",
        "        self.age = age\n",
        "        \n",
        "    def introduceyourself(self):\n",
        "        print(\"My name is \" + self.name)\n",
        "        print(\"My age is \" + str(self.age))\n",
        "        \n",
        "author = Person(\"Maarten\",30)\n",
        "author.introduceyourself()"
      ],
      "outputs": [],
      "metadata": {
        "id": "h3ZlNJ8NUh7p"
      },
      "execution_count": null
    },
    {
      "cell_type": "markdown",
      "source": [
        "Do you see what happens here? Do you understand the role of `self` and notation with the period?"
      ],
      "metadata": {
        "id": "7BRNG-SRUh7p"
      }
    },
    {
      "cell_type": "markdown",
      "source": [
        "Unbeknowst to you, we have already made use of countless objects and methods throughout this course. Things like strings, lists, sets, dictionaries are all objects! Isn't that a shock? :) The object oriented paradigm is ubiquitous in Python!"
      ],
      "metadata": {
        "id": "k_w3V6zhUh7p"
      }
    },
    {
      "cell_type": "markdown",
      "source": [
        "####Exercise"
      ],
      "metadata": {
        "id": "jyk1pkrDUh7p"
      }
    },
    {
      "cell_type": "markdown",
      "source": [
        "Add a variable `gender` (a string) to the Person class and adapt the initialisation method accordingly. Also add a method `ismale()` that uses this new information and returns a boolean value (True/False).\n"
      ],
      "metadata": {
        "id": "SSwgjTkuUh7q"
      }
    },
    {
      "cell_type": "code",
      "source": [
        "#adapt the code:\n",
        "\n",
        "class Person:\n",
        "    def __init__(self, name, age):\n",
        "        self.name = name\n",
        "        self.age = age\n",
        "        \n",
        "    def introduceyourself(self):\n",
        "        print(\"My name is \" + self.name)\n",
        "        print(\"My age is \" + str(self.age))\n",
        "        \n",
        "author = Person(\"Maarten\",30)\n",
        "author.introduceyourself()"
      ],
      "outputs": [],
      "metadata": {
        "id": "XQd-jWI7Uh7q"
      },
      "execution_count": null
    },
    {
      "cell_type": "markdown",
      "source": [
        "---"
      ],
      "metadata": {
        "id": "UsG-kaE9Uh7q"
      }
    },
    {
      "cell_type": "markdown",
      "source": [
        "###Inheritance *"
      ],
      "metadata": {
        "id": "CvirBji6Uh7q"
      }
    },
    {
      "cell_type": "markdown",
      "source": [
        "One of the neat things you can do with classes is that you can build more specialised classes on top of more generic classes. `Person` for instance is a rather generic concept. We can use this generic class to build a more specialised class `Teacher`, a person that teaches a course. If you use inheritance, everything that the parent class could do, the inherited class can do as well!\n",
        "\n",
        "The syntax for inheritance is as follows, do not confuse it with parameters in a function/method definition. We also add an extra method `stateprofession()` otherwise `Teacher` would be no different than `Person`:"
      ],
      "metadata": {
        "id": "Eb90Z_MRUh7r"
      }
    },
    {
      "cell_type": "code",
      "source": [
        "class Person:\n",
        "    def __init__(self, name, age):\n",
        "        self.name = name\n",
        "        self.age = age\n",
        "        \n",
        "    def introduceyourself(self):\n",
        "        print(\"My name is \" + self.name)\n",
        "        print(\"My age is \" + str(self.age))\n",
        "\n",
        "        \n",
        "class Teacher(Person): #this class inherits the class above!\n",
        "    def stateprofession(self):\n",
        "        print(\"I am a teacher!\")"
      ],
      "outputs": [],
      "metadata": {
        "id": "7ZTpm1gzUh7r"
      },
      "execution_count": null
    },
    {
      "cell_type": "code",
      "source": [
        "author = Teacher(\"Maarten\",30)\n",
        "author.introduceyourself()\n",
        "author.stateprofession()"
      ],
      "outputs": [],
      "metadata": {
        "id": "eMYRXQWaUh7r"
      },
      "execution_count": null
    },
    {
      "cell_type": "markdown",
      "source": [
        "####Exercise"
      ],
      "metadata": {
        "id": "lGnYIs5oUh7s"
      }
    },
    {
      "cell_type": "markdown",
      "source": [
        "If the class `Person` would have already had a method `stateprofession`, then it would have been overruled (we say *overloaded*) by the one in the `Teacher` class. Edit the example above, add a print like *\"I have no profession! :'(\"* and see that nothings changes"
      ],
      "metadata": {
        "id": "vMjMAD-sUh7s"
      }
    },
    {
      "cell_type": "markdown",
      "source": [
        ""
      ],
      "metadata": {
        "id": "AdA3QC53CT7o"
      }
    },
    {
      "cell_type": "markdown",
      "source": [
        "<p><small><a rel=\"license\" href=\"http://creativecommons.org/licenses/by-sa/4.0/\"><img alt=\"Creative Commons License\" style=\"border-width:0\" src=\"https://i.creativecommons.org/l/by-sa/4.0/88x31.png\" /></a><br /><span xmlns:dct=\"http://purl.org/dc/terms/\" property=\"dct:title\">Python Programming for the Humanities</span> by <a xmlns:cc=\"http://creativecommons.org/ns#\" href=\"http://fbkarsdorp.github.io/python-course\" property=\"cc:attributionName\" rel=\"cc:attributionURL\">http://fbkarsdorp.github.io/python-course</a> is licensed under a <a rel=\"license\" href=\"http://creativecommons.org/licenses/by-sa/4.0/\">Creative Commons Attribution-ShareAlike 4.0 International License</a>. Based on a work at <a xmlns:dct=\"http://purl.org/dc/terms/\" href=\"https://github.com/fbkarsdorp/python-course\" rel=\"dct:source\">https://github.com/fbkarsdorp/python-course</a>.</small></p>"
      ],
      "metadata": {
        "id": "JiddomTLUh7x"
      }
    }
  ]
}